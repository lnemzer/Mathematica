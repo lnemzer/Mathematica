{
  "nbformat": 4,
  "nbformat_minor": 0,
  "metadata": {
    "colab": {
      "name": "Paradox.ipynb",
      "provenance": [],
      "collapsed_sections": [],
      "include_colab_link": true
    },
    "kernelspec": {
      "name": "python3",
      "display_name": "Python 3"
    }
  },
  "cells": [
    {
      "cell_type": "markdown",
      "metadata": {
        "id": "view-in-github",
        "colab_type": "text"
      },
      "source": [
        "<a href=\"https://colab.research.google.com/github/lnemzer/Mathematica/blob/master/Paradox.ipynb\" target=\"_parent\"><img src=\"https://colab.research.google.com/assets/colab-badge.svg\" alt=\"Open In Colab\"/></a>"
      ]
    },
    {
      "cell_type": "markdown",
      "metadata": {
        "id": "pf0lwkIE_P6e",
        "colab_type": "text"
      },
      "source": [
        "#Paradoxical Resistance\n",
        "###Louis R. Nemzer, Ph.D.\n",
        "###December 2019\n",
        "$\\frac{dx}{dt} = x \\frac{r_0}{c_x}(1-\\frac{c_x}{t_x}A-\\frac{x+y}{K})$\n",
        "######$x$ is current population\n",
        "######$r_0$ is wild-type growth rate\n",
        "######$c_x$ is cost of resistance\n",
        "######$t_x$ is private benefit of resistance\n",
        "######$A$ is antibiotic ($A_{Wild-MIC}=1$)\n",
        "######$K$ is Carrying Capacity\n",
        "\n"
      ]
    },
    {
      "cell_type": "code",
      "metadata": {
        "id": "Aam4tve0xcnh",
        "colab_type": "code",
        "colab": {}
      },
      "source": [
        "import numpy as np\n",
        "import pandas as pd\n",
        "import matplotlib.pyplot as plt\n",
        "import matplotlib.gridspec as gridspec\n",
        "import matplotlib.cm as cm\n",
        "from google.colab import files"
      ],
      "execution_count": 0,
      "outputs": []
    },
    {
      "cell_type": "code",
      "metadata": {
        "id": "G8ReVTJkysoT",
        "colab_type": "code",
        "colab": {}
      },
      "source": [
        "r0,dt=1,0.1\n",
        "cx,cy,tx,ty=1,1.3,1,2"
      ],
      "execution_count": 0,
      "outputs": []
    },
    {
      "cell_type": "code",
      "metadata": {
        "id": "3vUHS5s4yq6O",
        "colab_type": "code",
        "colab": {}
      },
      "source": [
        "def xdot(x,y,A):\n",
        "  return x*(r0/cx)*(1-A*(cx/tx)-(x+y))*dt\n",
        "def ydot(x,y,A):\n",
        "  return y*(r0/cy)*(1-A*(cy/ty)-(x+y))*dt"
      ],
      "execution_count": 0,
      "outputs": []
    },
    {
      "cell_type": "code",
      "metadata": {
        "id": "PDB23PAH1lod",
        "colab_type": "code",
        "colab": {}
      },
      "source": [
        "p0,f=0.002,0.01\n",
        "x,y,A=p0*(1-f),p0*f,0.5\n",
        "xs=[x]\n",
        "ys=[y]\n",
        "while True:\n",
        "  x=np.clip(x+xdot(x,y,A),0,1)\n",
        "  y=np.clip(y+ydot(x,y,A),0,1)\n",
        "  xs.append(x)\n",
        "  ys.append(y)\n",
        "  if (x+y)>0.999 or (x+y)<0.001 or (np.absolute(xdot(x,y,A))<0.0001 and np.absolute(ydot(x,y,A))<0.0001):\n",
        "        break"
      ],
      "execution_count": 0,
      "outputs": []
    },
    {
      "cell_type": "code",
      "metadata": {
        "colab_type": "code",
        "id": "QpUN6vBB-KNW",
        "colab": {}
      },
      "source": [
        "maxsteps=2000\n",
        "def LV(p0,f,A,steps):\n",
        "  x,y=p0*(1-f),p0*f\n",
        "  xs=[x]\n",
        "  ys=[y]\n",
        "  time = 0\n",
        "  while time<steps:\n",
        "    x=np.clip(x+xdot(x,y,A),0,1)\n",
        "    y=np.clip(y+ydot(x,y,A),0,1)\n",
        "    xs.append(x)\n",
        "    ys.append(y)\n",
        "    if (x+y)>0.9999 or (x+y)<0.0001 or (np.absolute(xdot(x,y,A))<0.00001 and np.absolute(ydot(x,y,A))<0.00001):\n",
        "        break\n",
        "    time+=1\n",
        "  return x+y\n",
        "\n",
        "pi=0.001\n",
        "def S(f,A):\n",
        "  dA=0.1\n",
        "  S=(LV(pi,f,A,maxsteps)-LV(pi,f,A+dA,maxsteps))/dA\n",
        "  return S        "
      ],
      "execution_count": 0,
      "outputs": []
    },
    {
      "cell_type": "code",
      "metadata": {
        "id": "04zNTnpaI_5H",
        "colab_type": "code",
        "colab": {}
      },
      "source": [
        "ylist = np.linspace(0, 2, num=30)\n",
        "xlist = np.logspace(-2, 0, num=30)\n",
        "Ss=[]\n",
        "for A in ylist:\n",
        "  for f in xlist:  \n",
        "    Ss.append(S(f,A))\n",
        "Sarray=np.reshape(Ss,(30,30))"
      ],
      "execution_count": 0,
      "outputs": []
    },
    {
      "cell_type": "code",
      "metadata": {
        "id": "OMs7MCZL_Gqm",
        "colab_type": "code",
        "colab": {}
      },
      "source": [
        "dA=0.1\n",
        "S=[]\n",
        "for a in range(100):\n",
        "  A=a/100\n",
        "  S.append((-(LV(0.01,0.5,A+dA,20)-LV(0.01,0.5,A,20))/dA))"
      ],
      "execution_count": 0,
      "outputs": []
    },
    {
      "cell_type": "code",
      "metadata": {
        "id": "xWyMgJvrAWQ_",
        "colab_type": "code",
        "outputId": "41099e34-42b3-4952-a15f-d47cb5999c00",
        "colab": {
          "base_uri": "https://localhost:8080/",
          "height": 283
        }
      },
      "source": [
        "plt.plot(S)"
      ],
      "execution_count": 341,
      "outputs": [
        {
          "output_type": "execute_result",
          "data": {
            "text/plain": [
              "[<matplotlib.lines.Line2D at 0x7f1a45c21978>]"
            ]
          },
          "metadata": {
            "tags": []
          },
          "execution_count": 341
        },
        {
          "output_type": "display_data",
          "data": {
            "image/png": "[encoded data removed]",
            "text/plain": [
              "<Figure size 432x288 with 1 Axes>"
            ]
          },
          "metadata": {
            "tags": []
          }
        }
      ]
    },
    {
      "cell_type": "code",
      "metadata": {
        "id": "4E17t6W44xrM",
        "colab_type": "code",
        "outputId": "60025a57-1d75-4782-e6d0-3e1e13670bb0",
        "colab": {
          "base_uri": "https://localhost:8080/",
          "height": 301
        }
      },
      "source": [
        "plt.plot(xs,ys)\n",
        "plt.xlabel(\"Time (s)\")\n",
        "plt.ylabel(\"Scale (Bananas)\")\n",
        "plt.xlim(0, 1)\n",
        "plt.ylim(0, 1)"
      ],
      "execution_count": 342,
      "outputs": [
        {
          "output_type": "execute_result",
          "data": {
            "text/plain": [
              "(0, 1)"
            ]
          },
          "metadata": {
            "tags": []
          },
          "execution_count": 342
        },
        {
          "output_type": "display_data",
          "data": {
            "image/png": "[encoded data removed]",
            "text/plain": [
              "<Figure size 432x288 with 1 Axes>"
            ]
          },
          "metadata": {
            "tags": []
          }
        }
      ]
    },
    {
      "cell_type": "code",
      "metadata": {
        "colab_type": "code",
        "outputId": "3ad0bed8-2946-409f-dbf9-d3e5d83242d9",
        "id": "uzmVaoi56E6r",
        "colab": {
          "base_uri": "https://localhost:8080/",
          "height": 207
        }
      },
      "source": [
        "A=0\n",
        "Y, X = np.mgrid[0:1:100j, 0:1:100j]\n",
        "U = xdot(X,Y,A)\n",
        "V = ydot(X,Y,A)\n",
        "speed = np.sqrt(U**2 + V**2)\n",
        "\n",
        "fig = plt.figure(figsize=(7, 9))\n",
        "gs = gridspec.GridSpec(nrows=3, ncols=2, height_ratios=[1, 1, 2])\n",
        "\n",
        "#  Varying line width along a streamline\n",
        "ax2 = fig.add_subplot(gs[1, 0])\n",
        "lw = 5*speed / speed.max()\n",
        "ax2.streamplot(X, Y, U, V, density=0.6, color='k', linewidth=lw)\n",
        "ax2.set_title('Varying Line Width')\n",
        "\n",
        "plt.tight_layout()\n",
        "plt.show()"
      ],
      "execution_count": 343,
      "outputs": [
        {
          "output_type": "display_data",
          "data": {
            "image/png": "[encoded data removed]",
            "text/plain": [
              "<Figure size 504x648 with 1 Axes>"
            ]
          },
          "metadata": {
            "tags": []
          }
        }
      ]
    },
    {
      "cell_type": "code",
      "metadata": {
        "id": "xv8iDqmr6TMi",
        "colab_type": "code",
        "outputId": "11e4175b-60c3-4a06-edbd-698f54be8285",
        "colab": {
          "base_uri": "https://localhost:8080/",
          "height": 317
        }
      },
      "source": [
        "#xlist = np.logspace(-3, -1, num=10)\n",
        "#ylist = np.linspace(0, 1, num=10)\n",
        "X, Y = np.meshgrid(xlist, ylist)\n",
        "\n",
        "Z = Sarray\n",
        "plt.figure()\n",
        "\n",
        "fig, ax = plt.subplots()\n",
        "#CS = ax.contour(X, Y, Z,[-1,0])\n",
        "CS = ax.contourf(X,Y,Z, levels=[-20, 0, 20],\n",
        "    colors=['xkcd:purple','xkcd:white','xkcd:purple'], extend='both')\n",
        "ax.set_title('Sensitivity')\n",
        "\n",
        "plt.xlabel('Inital Fraction Resistant')\n",
        "plt.ylabel('Antibiotic')\n",
        "plt.xscale('log')\n",
        "plt.savefig(\"abc.jpg\")\n",
        "files.download(\"abc.jpg\") \n",
        "plt.show()"
      ],
      "execution_count": 344,
      "outputs": [
        {
          "output_type": "display_data",
          "data": {
            "text/plain": [
              "<Figure size 432x288 with 0 Axes>"
            ]
          },
          "metadata": {
            "tags": []
          }
        },
        {
          "output_type": "display_data",
          "data": {
            "image/png": "[encoded data removed]",
            "text/plain": [
              "<Figure size 432x288 with 1 Axes>"
            ]
          },
          "metadata": {
            "tags": []
          }
        }
      ]
    },
    {
      "cell_type": "code",
      "metadata": {
        "id": "JnpH5WgmPORY",
        "colab_type": "code",
        "colab": {}
      },
      "source": [
        ""
      ],
      "execution_count": 0,
      "outputs": []
    }
  ]
}